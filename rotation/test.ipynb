{
 "cells": [
  {
   "cell_type": "code",
   "execution_count": 1,
   "id": "709975e1-8725-4b5f-9f47-d84740e162e7",
   "metadata": {},
   "outputs": [],
   "source": [
    "import numpy as np"
   ]
  },
  {
   "cell_type": "code",
   "execution_count": 2,
   "id": "43a6872a-d01b-4e5d-86b7-6b799c85246b",
   "metadata": {},
   "outputs": [],
   "source": [
    "arr = np.array([1,0,0,0])"
   ]
  },
  {
   "cell_type": "code",
   "execution_count": 3,
   "id": "d3ad224a-6878-4590-932c-ffe819099752",
   "metadata": {},
   "outputs": [
    {
     "data": {
      "text/plain": [
       "1"
      ]
     },
     "execution_count": 3,
     "metadata": {},
     "output_type": "execute_result"
    }
   ],
   "source": [
    "arr[0]"
   ]
  },
  {
   "cell_type": "code",
   "execution_count": 4,
   "id": "7a346759-037f-4afc-966c-1761bc8608de",
   "metadata": {},
   "outputs": [
    {
     "data": {
      "text/plain": [
       "0.0"
      ]
     },
     "execution_count": 4,
     "metadata": {},
     "output_type": "execute_result"
    }
   ],
   "source": [
    "np.sin(0)\n"
   ]
  },
  {
   "cell_type": "code",
   "execution_count": 5,
   "id": "1c535dd8-15af-4156-9548-20aa238a22b3",
   "metadata": {},
   "outputs": [],
   "source": [
    "from math import sin\n",
    "import math"
   ]
  },
  {
   "cell_type": "code",
   "execution_count": 6,
   "id": "2a9952c3-0278-4ca0-86ed-aac79e5d9f98",
   "metadata": {},
   "outputs": [
    {
     "data": {
      "text/plain": [
       "0.0"
      ]
     },
     "execution_count": 6,
     "metadata": {},
     "output_type": "execute_result"
    }
   ],
   "source": [
    "a = sin(0)\n",
    "a"
   ]
  },
  {
   "cell_type": "code",
   "execution_count": 7,
   "id": "a8579c58-350f-4871-8c10-248202ba774f",
   "metadata": {},
   "outputs": [
    {
     "data": {
      "text/plain": [
       "0.5403023058681398"
      ]
     },
     "execution_count": 7,
     "metadata": {},
     "output_type": "execute_result"
    }
   ],
   "source": [
    "math.cos(1)"
   ]
  },
  {
   "cell_type": "code",
   "execution_count": 11,
   "id": "05ca6b9d-196e-47f2-b090-1ad62dc9284c",
   "metadata": {},
   "outputs": [
    {
     "data": {
      "text/plain": [
       "array([[0.],\n",
       "       [0.],\n",
       "       [0.],\n",
       "       [0.]])"
      ]
     },
     "execution_count": 11,
     "metadata": {},
     "output_type": "execute_result"
    }
   ],
   "source": [
    "np.zeros([4,1])"
   ]
  },
  {
   "cell_type": "code",
   "execution_count": 12,
   "id": "3c812e94-3745-4804-8f40-b59d81a65de5",
   "metadata": {},
   "outputs": [],
   "source": [
    "def test():\n",
    "    return 1,2,3"
   ]
  },
  {
   "cell_type": "code",
   "execution_count": 13,
   "id": "900fd66b-b798-4baa-bafc-d82ac4cf303a",
   "metadata": {},
   "outputs": [],
   "source": [
    "a = test()"
   ]
  },
  {
   "cell_type": "code",
   "execution_count": 14,
   "id": "5f709dd7-233b-4f05-93ea-df0c5397713a",
   "metadata": {},
   "outputs": [
    {
     "data": {
      "text/plain": [
       "(1, 2, 3)"
      ]
     },
     "execution_count": 14,
     "metadata": {},
     "output_type": "execute_result"
    }
   ],
   "source": [
    "a\n"
   ]
  },
  {
   "cell_type": "code",
   "execution_count": 15,
   "id": "b5ee1ac3-0e39-45bd-bae0-de5baa549672",
   "metadata": {},
   "outputs": [
    {
     "data": {
      "text/plain": [
       "1"
      ]
     },
     "execution_count": 15,
     "metadata": {},
     "output_type": "execute_result"
    }
   ],
   "source": [
    "a[0]"
   ]
  },
  {
   "cell_type": "code",
   "execution_count": 21,
   "id": "7e9f7f0a-b8d2-42d2-9d38-52c7dfbff90c",
   "metadata": {},
   "outputs": [],
   "source": [
    "x = np.ones([4,4])"
   ]
  },
  {
   "cell_type": "code",
   "execution_count": 22,
   "id": "326a36eb-50a1-4073-b3de-f5a2633265d6",
   "metadata": {},
   "outputs": [
    {
     "data": {
      "text/plain": [
       "array([[1., 1., 1., 1.],\n",
       "       [1., 1., 1., 1.],\n",
       "       [1., 1., 1., 1.],\n",
       "       [1., 1., 1., 1.]])"
      ]
     },
     "execution_count": 22,
     "metadata": {},
     "output_type": "execute_result"
    }
   ],
   "source": [
    "x"
   ]
  },
  {
   "cell_type": "code",
   "execution_count": 28,
   "id": "268e598c-8647-48db-af72-45ba323dfb8b",
   "metadata": {},
   "outputs": [],
   "source": [
    "y = np.array([[1,2,3,4]])"
   ]
  },
  {
   "cell_type": "code",
   "execution_count": 29,
   "id": "981da5dc-5beb-489c-badc-1923376fb3fe",
   "metadata": {},
   "outputs": [
    {
     "data": {
      "text/plain": [
       "array([[1, 2, 3, 4]])"
      ]
     },
     "execution_count": 29,
     "metadata": {},
     "output_type": "execute_result"
    }
   ],
   "source": [
    "y"
   ]
  },
  {
   "cell_type": "code",
   "execution_count": 31,
   "id": "9fe53c79-5da4-425b-bbf1-5ee23b8c5b39",
   "metadata": {},
   "outputs": [
    {
     "data": {
      "text/plain": [
       "array([[10.],\n",
       "       [10.],\n",
       "       [10.],\n",
       "       [10.]])"
      ]
     },
     "execution_count": 31,
     "metadata": {},
     "output_type": "execute_result"
    }
   ],
   "source": [
    "x.dot(y.T)"
   ]
  },
  {
   "cell_type": "code",
   "execution_count": 32,
   "id": "35984df5-8a15-4338-80de-e93d11e60fe4",
   "metadata": {},
   "outputs": [],
   "source": [
    "y = np.array(y)"
   ]
  },
  {
   "cell_type": "code",
   "execution_count": 33,
   "id": "62ac0775-f0ba-452b-bf2a-736c4ebc87a6",
   "metadata": {},
   "outputs": [
    {
     "data": {
      "text/plain": [
       "array([[1, 2, 3, 4]])"
      ]
     },
     "execution_count": 33,
     "metadata": {},
     "output_type": "execute_result"
    }
   ],
   "source": [
    "y"
   ]
  },
  {
   "cell_type": "code",
   "execution_count": 36,
   "id": "9adbc12e-4fd6-488e-aaca-c0af03c6c3a8",
   "metadata": {},
   "outputs": [],
   "source": [
    "q = np.array([1, 0, 0, 0], dtype=np.float64)\n",
    "w = np.array([1,2,3])\n",
    "A = np.array([[0, -w[0], -w[1], -w[2]],\n",
    "                  [w[0], 0, w[2], -w[1]],\n",
    "                  [w[1], -w[2], 0, w[0]],\n",
    "                  [w[2], w[1], -w[0], 0]], dtype=np.float64)\n",
    "dq = 0.5 * A @ q"
   ]
  },
  {
   "cell_type": "code",
   "execution_count": 38,
   "id": "2300516d-9b01-4bd6-928c-66792df5686d",
   "metadata": {},
   "outputs": [
    {
     "data": {
      "text/plain": [
       "dtype('float64')"
      ]
     },
     "execution_count": 38,
     "metadata": {},
     "output_type": "execute_result"
    }
   ],
   "source": [
    "dq.dtype"
   ]
  },
  {
   "cell_type": "code",
   "execution_count": null,
   "id": "ea9183e3-e25d-4ebf-bc67-0510872a0bfe",
   "metadata": {},
   "outputs": [],
   "source": []
  }
 ],
 "metadata": {
  "kernelspec": {
   "display_name": "Python 3",
   "language": "python",
   "name": "python3"
  },
  "language_info": {
   "codemirror_mode": {
    "name": "ipython",
    "version": 3
   },
   "file_extension": ".py",
   "mimetype": "text/x-python",
   "name": "python",
   "nbconvert_exporter": "python",
   "pygments_lexer": "ipython3",
   "version": "3.7.8"
  }
 },
 "nbformat": 4,
 "nbformat_minor": 5
}
